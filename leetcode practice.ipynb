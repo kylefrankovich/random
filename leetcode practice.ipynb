{
 "cells": [
  {
   "cell_type": "markdown",
   "metadata": {},
   "source": [
    "notebook for messing around with leetcode and whatnot"
   ]
  },
  {
   "cell_type": "code",
   "execution_count": 1,
   "metadata": {},
   "outputs": [
    {
     "ename": "NameError",
     "evalue": "name 'List' is not defined",
     "output_type": "error",
     "traceback": [
      "\u001b[0;31m---------------------------------------------------------------------------\u001b[0m",
      "\u001b[0;31mNameError\u001b[0m                                 Traceback (most recent call last)",
      "\u001b[0;32m<ipython-input-1-6587d62e2465>\u001b[0m in \u001b[0;36m<module>\u001b[0;34m\u001b[0m\n\u001b[1;32m    136\u001b[0m \u001b[0;34m\u001b[0m\u001b[0m\n\u001b[1;32m    137\u001b[0m \u001b[0;34m\u001b[0m\u001b[0m\n\u001b[0;32m--> 138\u001b[0;31m \u001b[0;32mdef\u001b[0m \u001b[0mthreeConsecutiveOdds\u001b[0m\u001b[0;34m(\u001b[0m\u001b[0mself\u001b[0m\u001b[0;34m,\u001b[0m \u001b[0marr\u001b[0m\u001b[0;34m:\u001b[0m \u001b[0mList\u001b[0m\u001b[0;34m[\u001b[0m\u001b[0mint\u001b[0m\u001b[0;34m]\u001b[0m\u001b[0;34m)\u001b[0m \u001b[0;34m->\u001b[0m \u001b[0mbool\u001b[0m\u001b[0;34m:\u001b[0m\u001b[0;34m\u001b[0m\u001b[0;34m\u001b[0m\u001b[0m\n\u001b[0m\u001b[1;32m    139\u001b[0m   \u001b[0mcounter\u001b[0m \u001b[0;34m=\u001b[0m \u001b[0;36m0\u001b[0m\u001b[0;34m\u001b[0m\u001b[0;34m\u001b[0m\u001b[0m\n\u001b[1;32m    140\u001b[0m \u001b[0;34m\u001b[0m\u001b[0m\n",
      "\u001b[0;31mNameError\u001b[0m: name 'List' is not defined"
     ]
    }
   ],
   "source": [
    "\n",
    "\n",
    "\n",
    "\n",
    "\n",
    "\n",
    "\n",
    "\n",
    "\n",
    "\n",
    "\n",
    "\n",
    "\n",
    "\n",
    "# two sum:\n",
    "\n",
    "\n",
    "# Given an array of integers nums and an integer target, return indices of the two numbers such that they add up to target.\n",
    "\n",
    "# You may assume that each input would have exactly one solution, and you may not use the same element twice.\n",
    "\n",
    "# You can return the answer in any order.\n",
    "\n",
    "\n",
    "nums = [2,7,11,15]\n",
    "target = 18\n",
    "# print(nums)\n",
    "\n",
    "\n",
    "def twoSum(input_list, target_value):\n",
    "  for i in range(len(input_list)):\n",
    "    for j in range(len(input_list)):\n",
    "      if i != j:\n",
    "        if input_list[i] + input_list[j] == target_value:\n",
    "          return([i,j])\n",
    "\n",
    "\n",
    "# print(twoSum(nums,target))\n",
    "\n",
    "# Hint 1 First do brute force. You should iterate over the list twice.\n",
    "\n",
    "# Hint 2 Can we speed up the search somehow? Use a set or dictionary.\n",
    "\n",
    "def twoSumFast(input_list, target_value):\n",
    "  values = {}\n",
    "  for i,num in enumerate(nums):\n",
    "    print(i,num)\n",
    "    if (target - num) in values.keys():\n",
    "        return[values[target-num],i]\n",
    "    else:\n",
    "        values[num] = i\n",
    "        print(values)\n",
    "\n",
    "# print(twoSumFast(nums,target))\n",
    "\n",
    "\n",
    "\n",
    "# # Python program to illustrate \n",
    "# # enumerate function in loops \n",
    "# l1 = [\"eat\",\"sleep\",\"repeat\"] \n",
    "  \n",
    "# # printing the tuples in object directly \n",
    "# for ele in enumerate(l1): \n",
    "#     print(ele) \n",
    "\n",
    "# # changing index and printing separately \n",
    "# for count,ele in enumerate(nums): \n",
    "#     print(count,ele)\n",
    "\n",
    "\n",
    "# reverse integer:\n",
    "\n",
    "# given 32-bit signed integer, reverse digits of an integers\n",
    "# ex: input: 123, output: 321\n",
    "\n",
    "def reverse(input_num):\n",
    "  input_num = [int(x) for x in str(input_num)]\n",
    "  # for i,num in enumerate(input_num):\n",
    "  #   print(i,num)\n",
    "  output = []\n",
    "  for i in range(len(input_num)):\n",
    "    output.append(input_num.pop())\n",
    "  return int(''.join(map(str,output)))\n",
    "\n",
    "\n",
    "# print(reverse(120))\n",
    "\n",
    "#s = int(''.join(map(str,[1,2,3])))\n",
    "# print(s)\n",
    "\n",
    "\n",
    "## def reverse(self, x: int) -> int:\n",
    "#   if x > 0:\n",
    "#     return int(str(x)[::-1])\n",
    "#   else:\n",
    "#     x = x*-1\n",
    "#     return int(str(x)[::-1]) * -1\n",
    "#   if (rev > 2**31-1) or (rev < -2**31):            \n",
    "#     return 0\n",
    "\n",
    "\n",
    "# print(reverse(120))\n",
    "\n",
    "#marielas:\n",
    "\n",
    "def reverse(self, x:int) -> int:\n",
    "  if x>=0:\n",
    "    rev = int(str(x)[::-1])\n",
    "  else:\n",
    "    rev = -1 * int(str(x)[1:][::-1])\n",
    "  if (rev > 2**31-1) or (rev < -2**31):\n",
    "    return 0\n",
    "  return rev\n",
    "\n",
    "\n",
    "\n",
    "# print(reverse(120))\n",
    "\n",
    "\n",
    "# fib non-recursive:\n",
    "\n",
    "def fib(self, N: int) -> int:\n",
    "      first = 0\n",
    "      second = 1\n",
    "        \n",
    "      vals = []\n",
    "      for n in range(N+1):\n",
    "        print(n)\n",
    "            \n",
    "      if n <= 1:\n",
    "        vals.append(n)\n",
    "      if n > 1:\n",
    "        vals.append(vals[-1] + vals[-2])\n",
    "      return vals[-1]\n",
    "\n",
    "\n",
    "# fib recursive:\n",
    "\n",
    "def fibRecursive(n):\n",
    "  \n",
    "  if n<1:\n",
    "    return n\n",
    "  if n>1:\n",
    "    return fibRecursive(n-1) + fibRecursive(n-2)\n",
    "\n",
    "  return fibRecursive(n)\n",
    "\n",
    "# fibRecursive(3)\n",
    "\n",
    "\n",
    "\n",
    "def threeConsecutiveOdds(self, arr: List[int]) -> bool:\n",
    "  counter = 0\n",
    "        \n",
    "  for n in arr:        \n",
    "    if n%0 != 0:\n",
    "      counter += 1\n",
    "    if counter == 3:\n",
    "      return True\n",
    "                \n",
    "    else:\n",
    "      counter = 0\n",
    "  return False\n",
    "\n"
   ]
  },
  {
   "cell_type": "code",
   "execution_count": 31,
   "metadata": {},
   "outputs": [
    {
     "name": "stdout",
     "output_type": "stream",
     "text": [
      "3\n"
     ]
    }
   ],
   "source": [
    "def Fibonacci(n):\n",
    "    if n<=0:\n",
    "        print(\"Incorrect input\")\n",
    "    # First Fibonacci number is 0\n",
    "    elif n==1:\n",
    "        return 0\n",
    "    # Second Fibonacci number is 1\n",
    "    elif n==2:\n",
    "        return 1\n",
    "    else:\n",
    "        return Fibonacci(n-1)+Fibonacci(n-2)\n",
    " \n",
    "print(Fibonacci(5))"
   ]
  },
  {
   "cell_type": "code",
   "execution_count": 15,
   "metadata": {},
   "outputs": [
    {
     "data": {
      "text/plain": [
       "4321"
      ]
     },
     "execution_count": 15,
     "metadata": {},
     "output_type": "execute_result"
    }
   ],
   "source": [
    "x = 1234\n",
    "int(str(x)[::-1])"
   ]
  },
  {
   "cell_type": "markdown",
   "metadata": {},
   "source": [
    "### 1160. Find Words That Can Be Formed by Characters - https://leetcode.com/problems/find-words-that-can-be-formed-by-characters/"
   ]
  },
  {
   "cell_type": "code",
   "execution_count": 19,
   "metadata": {},
   "outputs": [],
   "source": [
    "# leetcode submission:\n",
    "# def countCharacters(self, words: List[str], chars: str) -> int:\n",
    "        \n",
    "#         # go through each word:\n",
    "#         goodCount = 0\n",
    "#         for word in words:\n",
    "#             # go through each letter in each word:\n",
    "#             wordLen = len(word)\n",
    "#             letterCount = 0\n",
    "#             chars_list = list(chars)\n",
    "#             for letter in word:\n",
    "#                 if letter in chars_list:\n",
    "#                     letterCount += 1\n",
    "#                     chars_list.remove(letter)\n",
    "#                 else:\n",
    "#                     break\n",
    "#             if letterCount == wordLen:\n",
    "#                 goodCount +=letterCount\n",
    "#         return goodCount"
   ]
  },
  {
   "cell_type": "code",
   "execution_count": 21,
   "metadata": {},
   "outputs": [
    {
     "data": {
      "text/plain": [
       "6"
      ]
     },
     "execution_count": 21,
     "metadata": {},
     "output_type": "execute_result"
    }
   ],
   "source": [
    "# non-leetcode submission:\n",
    "def countCharacters(words, chars):\n",
    "        \n",
    "        # go through each word:\n",
    "        goodCount = 0\n",
    "        for word in words:\n",
    "            # go through each letter in each word:\n",
    "            wordLen = len(word)\n",
    "            letterCount = 0\n",
    "            chars_list = list(chars)\n",
    "            for letter in word:\n",
    "                if letter in chars_list:\n",
    "                    letterCount += 1\n",
    "                    chars_list.remove(letter)\n",
    "                else:\n",
    "                    break\n",
    "            if letterCount == wordLen:\n",
    "                goodCount +=letterCount\n",
    "        return goodCount\n",
    "    \n",
    "test_words = [\"cat\",\"bt\",\"hat\",\"tree\"]\n",
    "test_chars = \"atach\"    \n",
    "countCharacters(test_words,test_chars)"
   ]
  },
  {
   "cell_type": "markdown",
   "metadata": {},
   "source": [
    "### 1047. Remove All Adjacent Duplicates In String - https://leetcode.com/problems/remove-all-adjacent-duplicates-in-string/"
   ]
  },
  {
   "cell_type": "code",
   "execution_count": null,
   "metadata": {},
   "outputs": [],
   "source": []
  },
  {
   "cell_type": "markdown",
   "metadata": {},
   "source": [
    "### 1351. Count Negative Numbers in a Sorted Matrix - https://leetcode.com/problems/count-negative-numbers-in-a-sorted-matrix/"
   ]
  },
  {
   "cell_type": "code",
   "execution_count": null,
   "metadata": {},
   "outputs": [],
   "source": [
    "class Solution:\n",
    "    def countNegatives(self, grid: List[List[int]]) -> int:\n",
    "        countNegs = 0\n",
    "        \n",
    "        for gridList in grid:\n",
    "            for item in gridList:\n",
    "                if item < 0:\n",
    "                    countNegs += 1\n",
    "        return countNegs"
   ]
  },
  {
   "cell_type": "code",
   "execution_count": null,
   "metadata": {},
   "outputs": [],
   "source": [
    "# list comprehension method:\n",
    "\n",
    "sum([sum([i<0 for i in r]) for r in grid])"
   ]
  },
  {
   "cell_type": "code",
   "execution_count": 46,
   "metadata": {},
   "outputs": [
    {
     "data": {
      "text/plain": [
       "21"
      ]
     },
     "execution_count": 46,
     "metadata": {},
     "output_type": "execute_result"
    }
   ],
   "source": [
    "# fib recursive:\n",
    "\n",
    "def fib_recursive(n):\n",
    "    if n <= 0:\n",
    "        print('invalid input')\n",
    "    elif n == 1:\n",
    "        return 0\n",
    "    elif n == 2:\n",
    "        return 1\n",
    "    elif n > 2:\n",
    "        return fib_recursive(n-1) + fib_recursive(n-2)\n",
    "\n",
    "fib_recursive(9)"
   ]
  },
  {
   "cell_type": "code",
   "execution_count": 56,
   "metadata": {},
   "outputs": [
    {
     "data": {
      "text/plain": [
       "['1', '9', 'a', 's', 'x', 'z']"
      ]
     },
     "execution_count": 56,
     "metadata": {},
     "output_type": "execute_result"
    }
   ],
   "source": []
  },
  {
   "cell_type": "markdown",
   "metadata": {},
   "source": [
    "### 1370. Increasing Decreasing String - https://leetcode.com/problems/increasing-decreasing-string/"
   ]
  },
  {
   "cell_type": "code",
   "execution_count": 64,
   "metadata": {},
   "outputs": [
    {
     "data": {
      "text/plain": [
       "'abccbaabccba'"
      ]
     },
     "execution_count": 64,
     "metadata": {},
     "output_type": "execute_result"
    }
   ],
   "source": [
    "# class Solution:\n",
    "#     def sortString(self, s: str) -> str:\n",
    "        \n",
    "#         result = []\n",
    "        \n",
    "#         S = list(s)\n",
    "        \n",
    "#         while len(S) > 0:\n",
    "#             S_unique = sorted(set(S))\n",
    "#             for c in S_unique:\n",
    "#                 result.append(S.pop(S.index(c)))\n",
    "#             S_unique = sorted(set(S), reverse=True)\n",
    "#             for c in S_unique:\n",
    "#                 result.append(S.pop(S.index(c)))\n",
    "#         return ''.join(result)\n",
    "    \n",
    "    \n",
    "def sortString(s):\n",
    "    result = []\n",
    "        \n",
    "    S = list(s)\n",
    "        \n",
    "    while len(S) > 0:\n",
    "        S_unique = sorted(set(S))\n",
    "        for c in S_unique:\n",
    "            result.append(S.pop(S.index(c)))\n",
    "        S_unique = sorted(set(S), reverse=True)\n",
    "        for c in S_unique:\n",
    "            result.append(S.pop(S.index(c)))\n",
    "    return ''.join(result)\n",
    "sortString(\"aaaabbbbcccc\")"
   ]
  },
  {
   "cell_type": "markdown",
   "metadata": {},
   "source": [
    "### minimum operations to make array equal - https://leetcode.com/problems/minimum-operations-to-make-array-equal/"
   ]
  },
  {
   "cell_type": "code",
   "execution_count": 88,
   "metadata": {},
   "outputs": [],
   "source": [
    "# class Solution:\n",
    "#     def minOperations(self, n: int) -> int:\n",
    "#         arr = []\n",
    "#         for i in range(n):\n",
    "#             arr.append((2 * i) + 1)\n",
    "        \n",
    "#         # set target:\n",
    "#         target = floor(mean(arr))\n",
    "#         counter = 0\n",
    "        \n",
    "#         while len(set(arr)) !=1:\n",
    "#             min_val = min(arr)\n",
    "#             max_val = max(arr)\n",
    "            \n",
    "#             # subtract from high:\n",
    "#             arr[arr.index(max_val)] -= 1\n",
    "            \n",
    "#             # add to low:\n",
    "#             arr[arr.index(min_val)] += 1\n",
    "#             counter += 1\n",
    "#         return counter\n",
    "\n",
    "\n",
    "def minOperations_mariela(self, n: int) -> int:\n",
    "    arr = []\n",
    "    for i in range(n):\n",
    "        arr.append((2 * i) + 1)\n",
    "            \n",
    "    mean_arr = floor(mean(arr))\n",
    "    diff = sum([abs(i-mean_arr) for i in arr])\n",
    "    return diff // 2\n",
    "\n",
    "\n",
    "def minOperations(n):        \n",
    "    arr = []\n",
    "    for i in range(n):\n",
    "        arr.append((2 * i) + 1)\n",
    "        \n",
    "    # set target:\n",
    "    target = floor(mean(arr))\n",
    "    counter = 0\n",
    "        \n",
    "    while len(set(arr)) !=1:\n",
    "        min_val = min(arr)\n",
    "        max_val = max(arr)\n",
    "            \n",
    "        # subtract from high:\n",
    "        arr[arr.index(max_val)] -= 1\n",
    "            \n",
    "        # add to low:\n",
    "        arr[arr.index(min_val)] += 1\n",
    "        counter += 1\n",
    "    return counter"
   ]
  },
  {
   "cell_type": "code",
   "execution_count": null,
   "metadata": {},
   "outputs": [],
   "source": []
  },
  {
   "cell_type": "code",
   "execution_count": null,
   "metadata": {},
   "outputs": [],
   "source": []
  }
 ],
 "metadata": {
  "kernelspec": {
   "display_name": "Python 3",
   "language": "python",
   "name": "python3"
  },
  "language_info": {
   "codemirror_mode": {
    "name": "ipython",
    "version": 3
   },
   "file_extension": ".py",
   "mimetype": "text/x-python",
   "name": "python",
   "nbconvert_exporter": "python",
   "pygments_lexer": "ipython3",
   "version": "3.6.10"
  }
 },
 "nbformat": 4,
 "nbformat_minor": 4
}
